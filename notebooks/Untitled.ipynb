{
 "cells": [
  {
   "cell_type": "code",
   "execution_count": 1,
   "id": "66ac8d74",
   "metadata": {},
   "outputs": [],
   "source": [
    "from bs4 import BeautifulSoup\n",
    "import requests\n",
    "import fake_useragent"
   ]
  },
  {
   "cell_type": "code",
   "execution_count": 2,
   "id": "bc0e9106",
   "metadata": {},
   "outputs": [],
   "source": [
    "res = requests.get('https://www.nytimes.com/section/world')"
   ]
  },
  {
   "cell_type": "code",
   "execution_count": 3,
   "id": "717183b6",
   "metadata": {},
   "outputs": [],
   "source": [
    "soup = BeautifulSoup(res.content)"
   ]
  },
  {
   "cell_type": "code",
   "execution_count": 4,
   "id": "2b85805d",
   "metadata": {},
   "outputs": [
    {
     "data": {
      "text/plain": [
       "'/2024/05/30/arts/music/john-lennon-guitar-auction-sold-beatles.html'"
      ]
     },
     "execution_count": 4,
     "metadata": {},
     "output_type": "execute_result"
    }
   ],
   "source": [
    "soup.find(name='div', attrs={'class': 'css-13mho3u'}).find(name='a').attrs['href']"
   ]
  },
  {
   "cell_type": "code",
   "execution_count": 5,
   "id": "f958a645",
   "metadata": {},
   "outputs": [],
   "source": [
    "url = 'https://www.nytimes.com/2023/05/09/world/middleeast/islamic-jihad-israel-gaza.html'"
   ]
  },
  {
   "cell_type": "code",
   "execution_count": 6,
   "id": "534beff9",
   "metadata": {},
   "outputs": [],
   "source": [
    "ua = fake_useragent.UserAgent()"
   ]
  },
  {
   "cell_type": "code",
   "execution_count": 7,
   "id": "dc282c2d",
   "metadata": {},
   "outputs": [],
   "source": [
    "headers = {\n",
    "    'User-Agent': 'User-Agent',\n",
    "}"
   ]
  },
  {
   "cell_type": "code",
   "execution_count": 8,
   "id": "2b485de4",
   "metadata": {},
   "outputs": [
    {
     "data": {
      "text/plain": [
       "{'User-Agent': 'User-Agent'}"
      ]
     },
     "execution_count": 8,
     "metadata": {},
     "output_type": "execute_result"
    }
   ],
   "source": [
    "headers"
   ]
  },
  {
   "cell_type": "code",
   "execution_count": 9,
   "id": "879e3f7a",
   "metadata": {},
   "outputs": [],
   "source": [
    "article = requests.get(url, headers=headers)"
   ]
  },
  {
   "cell_type": "code",
   "execution_count": 10,
   "id": "319990c1",
   "metadata": {},
   "outputs": [],
   "source": [
    "article_soup = BeautifulSoup(article.content)"
   ]
  },
  {
   "cell_type": "code",
   "execution_count": 11,
   "id": "57b352a1",
   "metadata": {},
   "outputs": [
    {
     "data": {
      "text/plain": [
       "'What Is Islamic Jihad and Why Is Israel Targeting It?'"
      ]
     },
     "execution_count": 11,
     "metadata": {},
     "output_type": "execute_result"
    }
   ],
   "source": [
    "article_soup.find(name='h1').text"
   ]
  },
  {
   "cell_type": "code",
   "execution_count": 12,
   "id": "da30f414",
   "metadata": {},
   "outputs": [
    {
     "data": {
      "text/plain": [
       "'A brief guide to the armed group that saw three leaders killed in Israeli airstrikes early Tuesday.'"
      ]
     },
     "execution_count": 12,
     "metadata": {},
     "output_type": "execute_result"
    }
   ],
   "source": [
    "article_soup.find(name='p', attrs={'id': 'article-summary'}).text"
   ]
  },
  {
   "cell_type": "code",
   "execution_count": 21,
   "id": "ec39562b",
   "metadata": {},
   "outputs": [
    {
     "data": {
      "text/plain": [
       "'https://static01.nyt.com/images/2023/05/09/multimedia/09israel-gaza-jihad-kplf/09israel-gaza-jihad-kplf-superJumbo.jpg'"
      ]
     },
     "execution_count": 21,
     "metadata": {},
     "output_type": "execute_result"
    }
   ],
   "source": [
    "article_soup.find(name='img').attrs['srcset'].split(',')[-1].split('?')[0]"
   ]
  },
  {
   "cell_type": "code",
   "execution_count": null,
   "id": "0c86002c",
   "metadata": {},
   "outputs": [],
   "source": []
  },
  {
   "cell_type": "code",
   "execution_count": null,
   "id": "46ac16c4",
   "metadata": {},
   "outputs": [],
   "source": []
  }
 ],
 "metadata": {
  "kernelspec": {
   "display_name": "Python 3 (ipykernel)",
   "language": "python",
   "name": "python3"
  },
  "language_info": {
   "codemirror_mode": {
    "name": "ipython",
    "version": 3
   },
   "file_extension": ".py",
   "mimetype": "text/x-python",
   "name": "python",
   "nbconvert_exporter": "python",
   "pygments_lexer": "ipython3",
   "version": "3.11.5"
  }
 },
 "nbformat": 4,
 "nbformat_minor": 5
}
